{
 "cells": [
  {
   "cell_type": "code",
   "execution_count": null,
   "metadata": {},
   "outputs": [],
   "source": [
    "import torch\n",
    "from transformers import MarianMTModel, MarianTokenizer\n",
    "\n",
    "# Load the pre-trained MarianMT model for English to Hinglish translation\n",
    "model_name = \"Helsinki-NLP/opus-mt-en-hi\"\n",
    "model = MarianMTModel.from_pretrained(model_name)\n",
    "tokenizer = MarianTokenizer.from_pretrained(model_name)\n",
    "\n",
    "def mix_languages(english_sentence):\n",
    "    # Tokenize the English sentence\n",
    "    inputs = tokenizer.encode(english_sentence, return_tensors=\"pt\")\n",
    "\n",
    "    # Translate the English sentence to Hinglish\n",
    "    translation_ids = model.generate(inputs, max_length=50, num_return_sequences=1)\n",
    "    hinglish_translation = tokenizer.decode(translation_ids[0], skip_special_tokens=True)\n",
    "\n",
    "     # Split the English sentence into words\n",
    "    english_words = english_sentence.split()\n",
    "\n",
    "    # Combine English and Hinglish words alternately\n",
    "    mixed_output = []\n",
    "    for i, word in enumerate(english_words):\n",
    "        if i % 2 == 0:\n",
    "            mixed_output.append(word)\n",
    "        elif i%4==0:\n",
    "            mixed_output.append(hinglish_translation.split()[i+2])\n",
    "        elif i%5==0:\n",
    "            mixed_output.append(word)\n",
    "        else:\n",
    "            mixed_output.append(hinglish_translation.split()[i-1])\n",
    "\n",
    "    return \" \".join(mixed_output)\n",
    "\n",
    "# Example English sentences\n",
    "sentences = [\n",
    "    \"Definitely share your feedback in the comment section.\",\n",
    "    \"So even if it's a big video, I will clearly mention all the products.\",\n",
    "    \"I was waiting for my bag.\"\n",
    "]\n",
    "\n",
    "# Generate mixed-language output\n",
    "for sentence in sentences:\n",
    "    mixed_output = mix_languages(sentence)\n",
    "    print(\"Input: \", sentence)\n",
    "    print(\"Mixed-Language Output: \", mixed_output)\n",
    "    print(\"\\n\")\n"
   ]
  }
 ],
 "metadata": {
  "kernelspec": {
   "display_name": "Python3_9",
   "language": "python",
   "name": "python3"
  },
  "language_info": {
   "codemirror_mode": {
    "name": "ipython",
    "version": 3
   },
   "file_extension": ".py",
   "mimetype": "text/x-python",
   "name": "python",
   "nbconvert_exporter": "python",
   "pygments_lexer": "ipython3",
   "version": "3.9.16"
  },
  "orig_nbformat": 4
 },
 "nbformat": 4,
 "nbformat_minor": 2
}
